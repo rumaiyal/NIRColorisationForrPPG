{
 "cells": [
  {
   "cell_type": "code",
   "execution_count": 1,
   "id": "f28e1654",
   "metadata": {},
   "outputs": [],
   "source": [
    "import sys\n",
    "import os\n",
    "import numpy as np\n",
    "import math\n",
    "import cv2\n",
    "from matplotlib import pyplot as plt\n",
    "from matplotlib import colors as mcolors\n",
    "import argparse"
   ]
  },
  {
   "cell_type": "markdown",
   "id": "6cd7ef01",
   "metadata": {},
   "source": [
    "# Compute MSE for 256x256pixels"
   ]
  },
  {
   "cell_type": "code",
   "execution_count": 8,
   "id": "b639b5bc",
   "metadata": {
    "scrolled": true
   },
   "outputs": [
    {
     "name": "stdout",
     "output_type": "stream",
     "text": [
      "avgerror 9.95988562182944\n"
     ]
    }
   ],
   "source": [
    "dirnamergbnirpatch='./results/pix2pix_nir12bit1chtorgb8bit3chwithrotshiftaugnodeltatensor_subject_testrangeplus/test_latest/images/'\n",
    "\n",
    "fnamepre='Frame'\n",
    "#startnum=4700\n",
    "#endnum=1814+1\n",
    "startnum=2\n",
    "#endnum=startnum+1\n",
    "endnum=1612\n",
    "#startnum=1000\n",
    "#endnum=1814+1\n",
    "#endnum=1965+1\n",
    "lengthint=5\n",
    "displayoption=1\n",
    "if endnum>startnum+1:\n",
    "    displayoption=0\n",
    "strow=0\n",
    "endrow=256\n",
    "stcol=0\n",
    "endcol=256\n",
    "\n",
    "totalerror=0\n",
    "for count in range(startnum,endnum,1):\n",
    "    strcount=str(count).zfill(lengthint)\n",
    "    pathnir=dirnamergbnirpatch+fnamepre+strcount+'_real_A_nir.png'\n",
    "    imnir=cv2.cvtColor(cv2.imread(pathnir),cv2.COLOR_BGR2RGB)\n",
    "    pathreal=dirnamergbnirpatch+fnamepre+strcount+'_real_B_rgb.png'\n",
    "    imreal=cv2.cvtColor(cv2.imread(pathreal),cv2.COLOR_BGR2RGB)\n",
    "    pathfake=dirnamergbnirpatch+fnamepre+strcount+'_fake_B_rgb.png'\n",
    "    imfake=cv2.cvtColor(cv2.imread(pathfake),cv2.COLOR_BGR2RGB)\n",
    "    diffimg=np.abs(imreal[strow:endrow,stcol:endcol]-imfake[strow:endrow,stcol:endcol])\n",
    "    (h,w)=imreal.shape[:2]\n",
    "    if displayoption==1:\n",
    "       fig, ax=plt.subplots(1,4)\n",
    "       ax[0].imshow(imnir,cmap='gray')\n",
    "       ax[1].title.set_text(\"real_NIR\") \n",
    "       imtemp=ax[1].imshow(imreal)\n",
    "       ax[1].title.set_text(\"real_RGB\") \n",
    "       ax[2].imshow(imfake)\n",
    "       ax[2].title.set_text(\"fake_RGB\")\n",
    "       print(f'max {np.max(diffimg)}') \n",
    "       ax[3].imshow(diffimg)\n",
    "       strerr= str(round(np.sqrt(np.sum(np.sum(np.square(diffimg)))/(endnum-startnum)/h/w),2))\n",
    "       ax[3].title.set_text('rms error:'+strerr)\n",
    "       fig.colorbar(imtemp,ax=ax.ravel().tolist(),orientation='horizontal')\n",
    "       plt.show()\n",
    "    #print(imreal[128,128],imfake[128,128])\n",
    "    indiverrormax=np.abs(imreal-imfake)\n",
    "    totalerror=np.sum(np.sum(np.square(diffimg)))+totalerror\n",
    "avgerror=np.sqrt(totalerror/(endnum-startnum)/h/w)\n",
    "print(f'avgerror {avgerror}')"
   ]
  },
  {
   "cell_type": "code",
   "execution_count": null,
   "id": "f31db42d",
   "metadata": {},
   "outputs": [],
   "source": []
  }
 ],
 "metadata": {
  "kernelspec": {
   "display_name": "Python 3 (ipykernel)",
   "language": "python",
   "name": "python3"
  },
  "language_info": {
   "codemirror_mode": {
    "name": "ipython",
    "version": 3
   },
   "file_extension": ".py",
   "mimetype": "text/x-python",
   "name": "python",
   "nbconvert_exporter": "python",
   "pygments_lexer": "ipython3",
   "version": "3.7.10"
  }
 },
 "nbformat": 4,
 "nbformat_minor": 5
}

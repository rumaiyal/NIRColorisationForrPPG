{
 "cells": [
  {
   "cell_type": "code",
   "execution_count": 2,
   "id": "fcc91461",
   "metadata": {},
   "outputs": [],
   "source": [
    "from pathlib import Path"
   ]
  },
  {
   "cell_type": "code",
   "execution_count": 3,
   "id": "31c48705",
   "metadata": {},
   "outputs": [],
   "source": [
    "p=Path('/home/umaiyal/CP5101/datasets/MR_NIRP/MR_NIRP_Indoor/Subject1_still_940/NIRbgremoved/test/')"
   ]
  },
  {
   "cell_type": "code",
   "execution_count": 4,
   "id": "68e960a8",
   "metadata": {},
   "outputs": [
    {
     "data": {
      "text/plain": [
       "('/',\n",
       " 'home',\n",
       " 'umaiyal',\n",
       " 'CP5101',\n",
       " 'datasets',\n",
       " 'MR_NIRP',\n",
       " 'MR_NIRP_Indoor',\n",
       " 'Subject1_still_940',\n",
       " 'NIRbgremoved',\n",
       " 'test')"
      ]
     },
     "execution_count": 4,
     "metadata": {},
     "output_type": "execute_result"
    }
   ],
   "source": [
    "p.parts"
   ]
  },
  {
   "cell_type": "code",
   "execution_count": 11,
   "id": "ed968d56",
   "metadata": {},
   "outputs": [
    {
     "data": {
      "text/plain": [
       "\"('/', 'home', 'umaiyal', 'CP5101', 'datasets', 'MR_NIRP', 'MR_NIRP_Indoor')RGBregisteredbgremovedtest\""
      ]
     },
     "execution_count": 11,
     "metadata": {},
     "output_type": "execute_result"
    }
   ],
   "source": [
    "str(p.parts[0:-3])+'RGBregisteredbgremoved'+str(p.parts[-1])"
   ]
  },
  {
   "cell_type": "code",
   "execution_count": 22,
   "id": "3cb3c17d",
   "metadata": {},
   "outputs": [],
   "source": [
    "pnewstr='/'\n",
    "for count in range(1,len(p.parts)-3):\n",
    "    pnewstr=pnewstr+str(p.parts[count])+'/'\n",
    "pnewstr=pnewstr+'RGBregisteredbgremoved'+'/'\n",
    "pnewstr=pnewstr+str(p.name)+\n",
    "pnew=Path(pnewstr)"
   ]
  },
  {
   "cell_type": "code",
   "execution_count": 23,
   "id": "ba05ac78",
   "metadata": {},
   "outputs": [
    {
     "data": {
      "text/plain": [
       "PosixPath('/home/umaiyal/CP5101/datasets/MR_NIRP/MR_NIRP_Indoor/RGBregisteredbgremoved/test')"
      ]
     },
     "execution_count": 23,
     "metadata": {},
     "output_type": "execute_result"
    }
   ],
   "source": [
    "pnew"
   ]
  },
  {
   "cell_type": "code",
   "execution_count": 24,
   "id": "848b5848",
   "metadata": {},
   "outputs": [
    {
     "data": {
      "text/plain": [
       "PosixPath('/home/umaiyal/CP5101/datasets/MR_NIRP/MR_NIRP_Indoor/Subject1_still_940/NIRbgremoved/test')"
      ]
     },
     "execution_count": 24,
     "metadata": {},
     "output_type": "execute_result"
    }
   ],
   "source": [
    "p"
   ]
  },
  {
   "cell_type": "code",
   "execution_count": null,
   "id": "50033e79",
   "metadata": {},
   "outputs": [],
   "source": []
  }
 ],
 "metadata": {
  "kernelspec": {
   "display_name": "Python 3 (ipykernel)",
   "language": "python",
   "name": "python3"
  },
  "language_info": {
   "codemirror_mode": {
    "name": "ipython",
    "version": 3
   },
   "file_extension": ".py",
   "mimetype": "text/x-python",
   "name": "python",
   "nbconvert_exporter": "python",
   "pygments_lexer": "ipython3",
   "version": "3.7.10"
  }
 },
 "nbformat": 4,
 "nbformat_minor": 5
}
